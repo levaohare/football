{
 "cells": [
  {
   "cell_type": "code",
   "execution_count": 27,
   "metadata": {},
   "outputs": [],
   "source": [
    "import pandas as pd\n",
    "from IPython.display import HTML\n",
    "import os\n",
    "import ipywidgets as widgets\n",
    "from IPython.display import display\n",
    "import random as rnd\n",
    "import collections\n",
    "import itertools\n",
    "import numpy as np\n",
    "import time\n",
    "import re1\n",
    "\n",
    "pd.set_option('display.max_columns', 50)\n",
    "\n",
    "\n",
    "class League:\n",
    "    def __init__(self, title, teams, two_games=False):\n",
    "        self.cur_round = 0\n",
    "        self.title = title\n",
    "        self.teams = teams\n",
    "        self.two_games = two_games\n",
    "        self.calendar = self.set_calendar()\n",
    "        self.results = {}\n",
    "        \n",
    "    def set_calendar(self):\n",
    "        teams = self.teams.index.to_list()\n",
    "        teams_index = teams\n",
    "        rnd.shuffle(teams_index)\n",
    "        n = len(teams)\n",
    "        tail = collections.deque(teams[1:n//2] + teams_index[n//2:][::-1])\n",
    "        round_robin_home, round_robin_away = [],[]\n",
    "        for _ in range(len(tail)):\n",
    "            round_line = [teams_index[0], *tail]\n",
    "            round_robin_home.append(pd.DataFrame({'abb_x':round_line[:n//2], 'abb_y':round_line[n//2:][::-1]})) \n",
    "            round_robin_away.append(pd.DataFrame({'abb_x':round_line[n//2:][::-1], 'abb_y':round_line[:n//2]}))   \n",
    "            tail.rotate()   \n",
    "        return round_robin_home + (round_robin_away if self.two_games else [])\n",
    "    \n",
    "    def round_results(self, round_num):\n",
    "        res = self.calendar[round_num]\\\n",
    "            .merge(self.teams[['attack','defense']], left_on='abb_x', right_index=True, how='inner')\\\n",
    "            .merge(self.teams[['attack','defense']], left_on='abb_y', right_index=True, how='inner')\n",
    "        res['GP_x'] = 1\n",
    "        res['GP_y'] = 1\n",
    "        res['GF_x'] = res.apply(lambda r: int(abs(rnd.normalvariate(r['attack_x'] - r['defense_y'], 1))), axis=1)\n",
    "        res['GF_y'] = res.apply(lambda r: int(abs(rnd.normalvariate(r['attack_y'] - r['defense_x'], 1))), axis=1)\n",
    "        res['GA_x'], res['GA_y'] = res['GF_y'], res['GF_x']\n",
    "        res['+/-_x'] = res['GF_x'] - res['GA_x']\n",
    "        res['+/-_y'] = res['GF_y'] - res['GA_y']\n",
    "        res['W_x'] = np.where(res['GF_x'] > res['GA_x'], 1, 0)\n",
    "        res['L_x'] = np.where(res['GF_x'] < res['GA_x'], 1, 0)\n",
    "        res['T_x'] = np.where(res['GF_x'] == res['GA_x'], 1, 0)\n",
    "        res['P_x'] = res['W_x']*3 + res['T_x']\n",
    "        res['W_y'] = np.where(res['GF_y'] > res['GA_y'], 1, 0)\n",
    "        res['L_y'] = np.where(res['GF_y'] < res['GA_y'], 1, 0)\n",
    "        res['T_y'] = np.where(res['GF_y'] == res['GA_y'], 1, 0)\n",
    "        res['P_y'] = res['W_y']*3 + res['T_y']\n",
    "        res = res.drop(['attack_x','defense_x','attack_y','defense_y'], axis=1)\n",
    "        self.results[round_num] = res\n",
    "        \n",
    "    def calc_table(self):\n",
    "        for i,res in enumerate(self.results.values()):\n",
    "            home = res[[x for x in res.columns if re.search('_x', x)]]\n",
    "            away = res[[x for x in res.columns if re.search('_y', x)]]\n",
    "            for x in [home, away]:\n",
    "                x.columns = [c.split('_')[0] for c in x] \n",
    "            home_away = pd.concat([home,away]).set_index('abb') \n",
    "            if i == 0:\n",
    "                table = home_away\n",
    "            else:    \n",
    "                table = table.add(home_away).combine_first(table)\n",
    "        self.table = self.teams[['img']].join(table).sort_values(['P','+/-','W'], ascending=False)\n",
    "        self.table.index.name = None\n",
    "        \n",
    "#     def elim_teams(self.teams):\n",
    "#         league_a.teams.loc[league_a.table[-2:].index.to_list()]\n",
    "               \n",
    "    def table_html(self):\n",
    "        return self.table.to_html(col_space='40px', justify='center', escape=False)\n",
    "    \n",
    "    def round_result_html(self, round_num):\n",
    "        res = self.results[round_num]\n",
    "        res = res.merge(self.teams[['img']], left_on='abb_x', right_index=True, how='inner')\\\n",
    "            .merge(self.teams[['img']], left_on='abb_y', right_index=True, how='inner', suffixes=('_x', '_y'))\n",
    "        return res[['img_x','GF_x','img_y','GF_y']].to_html(index=False, col_space='40px', justify='center', escape=False)\n",
    "    \n",
    "teams = pd.read_csv('teams.csv', index_col='abb')    "
   ]
  },
  {
   "cell_type": "code",
   "execution_count": 175,
   "metadata": {
    "collapsed": true
   },
   "outputs": [
    {
     "name": "stdout",
     "output_type": "stream",
     "text": [
      "<img src=\"./images/Argentina.png\"/>,Argentina\n",
      "<img src=\"./images/Brazil.png\"/>,Brazil\n",
      "<img src=\"./images/England.png\"/>,England\n",
      "<img src=\"./images/France.png\"/>,France\n",
      "<img src=\"./images/Germany.png\"/>,Germany\n",
      "<img src=\"./images/Italy.png\"/>,Italy\n",
      "<img src=\"./images/Netherlands.png\"/>,Netherlands\n",
      "<img src=\"./images/Portugal.png\"/>,Portugal\n",
      "<img src=\"./images/Russia.png\"/>,Russia\n",
      "<img src=\"./images/Spain.png\"/>,Spain\n"
     ]
    }
   ],
   "source": [
    "for x in os.listdir('./images'):\n",
    "    print(f'<img src=\"./images/{x}\"/>,{x[:-4]}')"
   ]
  },
  {
   "cell_type": "markdown",
   "metadata": {},
   "source": [
    "### Create cup"
   ]
  },
  {
   "cell_type": "code",
   "execution_count": 2,
   "metadata": {},
   "outputs": [
    {
     "data": {
      "application/vnd.jupyter.widget-view+json": {
       "model_id": "2552d449bb1d4ae0b692c2d8c8c97aea",
       "version_major": 2,
       "version_minor": 0
      },
      "text/plain": [
       "SelectMultiple(options=('Argentina', 'Brazil', 'England', 'France', 'Germany', 'Italy', 'Netherlands', 'Portug…"
      ]
     },
     "metadata": {},
     "output_type": "display_data"
    }
   ],
   "source": [
    "wTeams=widgets.SelectMultiple(options=teams['title'])\n",
    "display(wTeams)"
   ]
  },
  {
   "cell_type": "code",
   "execution_count": 43,
   "metadata": {
    "collapsed": true
   },
   "outputs": [
    {
     "data": {
      "text/html": [
       "<div>\n",
       "<style scoped>\n",
       "    .dataframe tbody tr th:only-of-type {\n",
       "        vertical-align: middle;\n",
       "    }\n",
       "\n",
       "    .dataframe tbody tr th {\n",
       "        vertical-align: top;\n",
       "    }\n",
       "\n",
       "    .dataframe thead th {\n",
       "        text-align: right;\n",
       "    }\n",
       "</style>\n",
       "<table border=\"1\" class=\"dataframe\">\n",
       "  <thead>\n",
       "    <tr style=\"text-align: right;\">\n",
       "      <th></th>\n",
       "      <th>img</th>\n",
       "      <th>title</th>\n",
       "      <th>attack</th>\n",
       "      <th>defense</th>\n",
       "    </tr>\n",
       "    <tr>\n",
       "      <th>abb</th>\n",
       "      <th></th>\n",
       "      <th></th>\n",
       "      <th></th>\n",
       "      <th></th>\n",
       "    </tr>\n",
       "  </thead>\n",
       "  <tbody>\n",
       "    <tr>\n",
       "      <th>ARG</th>\n",
       "      <td>&lt;img src=./images/Argentina.png/&gt;</td>\n",
       "      <td>Argentina</td>\n",
       "      <td>4.3</td>\n",
       "      <td>2.2</td>\n",
       "    </tr>\n",
       "    <tr>\n",
       "      <th>BRA</th>\n",
       "      <td>&lt;img src=./images/Brazil.png/&gt;</td>\n",
       "      <td>Brazil</td>\n",
       "      <td>4.5</td>\n",
       "      <td>2.4</td>\n",
       "    </tr>\n",
       "    <tr>\n",
       "      <th>ENG</th>\n",
       "      <td>&lt;img src=./images/England.png/&gt;</td>\n",
       "      <td>England</td>\n",
       "      <td>4.2</td>\n",
       "      <td>2.4</td>\n",
       "    </tr>\n",
       "    <tr>\n",
       "      <th>FRA</th>\n",
       "      <td>&lt;img src=./images/France.png/&gt;</td>\n",
       "      <td>France</td>\n",
       "      <td>4.6</td>\n",
       "      <td>2.6</td>\n",
       "    </tr>\n",
       "    <tr>\n",
       "      <th>GER</th>\n",
       "      <td>&lt;img src=./images/Germany.png/&gt;</td>\n",
       "      <td>Germany</td>\n",
       "      <td>4.6</td>\n",
       "      <td>2.5</td>\n",
       "    </tr>\n",
       "    <tr>\n",
       "      <th>ITA</th>\n",
       "      <td>&lt;img src=./images/Italy.png/&gt;</td>\n",
       "      <td>Italy</td>\n",
       "      <td>4.1</td>\n",
       "      <td>2.8</td>\n",
       "    </tr>\n",
       "    <tr>\n",
       "      <th>NTH</th>\n",
       "      <td>&lt;img src=./images/Netherlands.png/&gt;</td>\n",
       "      <td>Netherlands</td>\n",
       "      <td>4.3</td>\n",
       "      <td>2.6</td>\n",
       "    </tr>\n",
       "    <tr>\n",
       "      <th>POR</th>\n",
       "      <td>&lt;img src=./images/Portugal.png/&gt;</td>\n",
       "      <td>Portugal</td>\n",
       "      <td>4.1</td>\n",
       "      <td>2.7</td>\n",
       "    </tr>\n",
       "    <tr>\n",
       "      <th>RUS</th>\n",
       "      <td>&lt;img src=./images/Russia.png/&gt;</td>\n",
       "      <td>Russia</td>\n",
       "      <td>4.2</td>\n",
       "      <td>2.3</td>\n",
       "    </tr>\n",
       "    <tr>\n",
       "      <th>SPA</th>\n",
       "      <td>&lt;img src=./images/Spain.png/&gt;</td>\n",
       "      <td>Spain</td>\n",
       "      <td>4.6</td>\n",
       "      <td>2.4</td>\n",
       "    </tr>\n",
       "  </tbody>\n",
       "</table>\n",
       "</div>"
      ],
      "text/plain": [
       "                                     img        title  attack  defense\n",
       "abb                                                                   \n",
       "ARG    <img src=./images/Argentina.png/>    Argentina     4.3      2.2\n",
       "BRA       <img src=./images/Brazil.png/>       Brazil     4.5      2.4\n",
       "ENG      <img src=./images/England.png/>      England     4.2      2.4\n",
       "FRA       <img src=./images/France.png/>       France     4.6      2.6\n",
       "GER      <img src=./images/Germany.png/>      Germany     4.6      2.5\n",
       "ITA        <img src=./images/Italy.png/>        Italy     4.1      2.8\n",
       "NTH  <img src=./images/Netherlands.png/>  Netherlands     4.3      2.6\n",
       "POR     <img src=./images/Portugal.png/>     Portugal     4.1      2.7\n",
       "RUS       <img src=./images/Russia.png/>       Russia     4.2      2.3\n",
       "SPA        <img src=./images/Spain.png/>        Spain     4.6      2.4"
      ]
     },
     "execution_count": 43,
     "metadata": {},
     "output_type": "execute_result"
    }
   ],
   "source": [
    "teams_pool = teams[teams['title'].isin(wTeams.value)]\n",
    "#teams_pool"
   ]
  },
  {
   "cell_type": "code",
   "execution_count": 68,
   "metadata": {
    "scrolled": true
   },
   "outputs": [
    {
     "data": {
      "application/vnd.jupyter.widget-view+json": {
       "model_id": "fc74019940f1492e97274d77edfa4f37",
       "version_major": 2,
       "version_minor": 0
      },
      "text/plain": [
       "HTML(value='', description='Lague A')"
      ]
     },
     "metadata": {},
     "output_type": "display_data"
    },
    {
     "data": {
      "application/vnd.jupyter.widget-view+json": {
       "model_id": "98c07a61321645f5880362dcd959f043",
       "version_major": 2,
       "version_minor": 0
      },
      "text/plain": [
       "HTML(value='', description='Round results')"
      ]
     },
     "metadata": {},
     "output_type": "display_data"
    }
   ],
   "source": [
    "wTable = widgets.HTML(description='Lague A')\n",
    "wResults = widgets.HTML(description='Round results')\n",
    "display(wTable)\n",
    "display(wResults)\n",
    "\n",
    "league_a = League('League A', teams_pool, True)\n",
    "for i,x in enumerate(league_a.calendar):\n",
    "    league_a.round_results(i)\n",
    "    league_a.calc_table()\n",
    "    wTable.value = league_a.table_html()  \n",
    "    wResults.value = league_a.round_result_html(i)\n",
    "    time.sleep(2)      "
   ]
  },
  {
   "cell_type": "code",
   "execution_count": 8,
   "metadata": {
    "collapsed": true
   },
   "outputs": [
    {
     "ename": "NameError",
     "evalue": "name 'round_robin' is not defined",
     "output_type": "error",
     "traceback": [
      "\u001b[1;31m---------------------------------------------------------------------------\u001b[0m",
      "\u001b[1;31mNameError\u001b[0m                                 Traceback (most recent call last)",
      "\u001b[1;32m<ipython-input-8-f38b7b1d175f>\u001b[0m in \u001b[0;36m<module>\u001b[1;34m\u001b[0m\n\u001b[1;32m----> 1\u001b[1;33m \u001b[0mget_ipython\u001b[0m\u001b[1;33m(\u001b[0m\u001b[1;33m)\u001b[0m\u001b[1;33m.\u001b[0m\u001b[0mrun_line_magic\u001b[0m\u001b[1;33m(\u001b[0m\u001b[1;34m'timeit'\u001b[0m\u001b[1;33m,\u001b[0m \u001b[1;34m'round_robin(cup.index.to_list(), True)'\u001b[0m\u001b[1;33m)\u001b[0m\u001b[1;33m\u001b[0m\u001b[1;33m\u001b[0m\u001b[0m\n\u001b[0m",
      "\u001b[1;32mc:\\users\\slevadsky\\appdata\\local\\programs\\python\\python37\\lib\\site-packages\\IPython\\core\\interactiveshell.py\u001b[0m in \u001b[0;36mrun_line_magic\u001b[1;34m(self, magic_name, line, _stack_depth)\u001b[0m\n\u001b[0;32m   2285\u001b[0m                 \u001b[0mkwargs\u001b[0m\u001b[1;33m[\u001b[0m\u001b[1;34m'local_ns'\u001b[0m\u001b[1;33m]\u001b[0m \u001b[1;33m=\u001b[0m \u001b[0msys\u001b[0m\u001b[1;33m.\u001b[0m\u001b[0m_getframe\u001b[0m\u001b[1;33m(\u001b[0m\u001b[0mstack_depth\u001b[0m\u001b[1;33m)\u001b[0m\u001b[1;33m.\u001b[0m\u001b[0mf_locals\u001b[0m\u001b[1;33m\u001b[0m\u001b[1;33m\u001b[0m\u001b[0m\n\u001b[0;32m   2286\u001b[0m             \u001b[1;32mwith\u001b[0m \u001b[0mself\u001b[0m\u001b[1;33m.\u001b[0m\u001b[0mbuiltin_trap\u001b[0m\u001b[1;33m:\u001b[0m\u001b[1;33m\u001b[0m\u001b[1;33m\u001b[0m\u001b[0m\n\u001b[1;32m-> 2287\u001b[1;33m                 \u001b[0mresult\u001b[0m \u001b[1;33m=\u001b[0m \u001b[0mfn\u001b[0m\u001b[1;33m(\u001b[0m\u001b[1;33m*\u001b[0m\u001b[0margs\u001b[0m\u001b[1;33m,\u001b[0m\u001b[1;33m**\u001b[0m\u001b[0mkwargs\u001b[0m\u001b[1;33m)\u001b[0m\u001b[1;33m\u001b[0m\u001b[1;33m\u001b[0m\u001b[0m\n\u001b[0m\u001b[0;32m   2288\u001b[0m             \u001b[1;32mreturn\u001b[0m \u001b[0mresult\u001b[0m\u001b[1;33m\u001b[0m\u001b[1;33m\u001b[0m\u001b[0m\n\u001b[0;32m   2289\u001b[0m \u001b[1;33m\u001b[0m\u001b[0m\n",
      "\u001b[1;32m<c:\\users\\slevadsky\\appdata\\local\\programs\\python\\python37\\lib\\site-packages\\decorator.py:decorator-gen-62>\u001b[0m in \u001b[0;36mtimeit\u001b[1;34m(self, line, cell, local_ns)\u001b[0m\n",
      "\u001b[1;32mc:\\users\\slevadsky\\appdata\\local\\programs\\python\\python37\\lib\\site-packages\\IPython\\core\\magic.py\u001b[0m in \u001b[0;36m<lambda>\u001b[1;34m(f, *a, **k)\u001b[0m\n\u001b[0;32m    185\u001b[0m     \u001b[1;31m# but it's overkill for just that one bit of state.\u001b[0m\u001b[1;33m\u001b[0m\u001b[1;33m\u001b[0m\u001b[1;33m\u001b[0m\u001b[0m\n\u001b[0;32m    186\u001b[0m     \u001b[1;32mdef\u001b[0m \u001b[0mmagic_deco\u001b[0m\u001b[1;33m(\u001b[0m\u001b[0marg\u001b[0m\u001b[1;33m)\u001b[0m\u001b[1;33m:\u001b[0m\u001b[1;33m\u001b[0m\u001b[1;33m\u001b[0m\u001b[0m\n\u001b[1;32m--> 187\u001b[1;33m         \u001b[0mcall\u001b[0m \u001b[1;33m=\u001b[0m \u001b[1;32mlambda\u001b[0m \u001b[0mf\u001b[0m\u001b[1;33m,\u001b[0m \u001b[1;33m*\u001b[0m\u001b[0ma\u001b[0m\u001b[1;33m,\u001b[0m \u001b[1;33m**\u001b[0m\u001b[0mk\u001b[0m\u001b[1;33m:\u001b[0m \u001b[0mf\u001b[0m\u001b[1;33m(\u001b[0m\u001b[1;33m*\u001b[0m\u001b[0ma\u001b[0m\u001b[1;33m,\u001b[0m \u001b[1;33m**\u001b[0m\u001b[0mk\u001b[0m\u001b[1;33m)\u001b[0m\u001b[1;33m\u001b[0m\u001b[1;33m\u001b[0m\u001b[0m\n\u001b[0m\u001b[0;32m    188\u001b[0m \u001b[1;33m\u001b[0m\u001b[0m\n\u001b[0;32m    189\u001b[0m         \u001b[1;32mif\u001b[0m \u001b[0mcallable\u001b[0m\u001b[1;33m(\u001b[0m\u001b[0marg\u001b[0m\u001b[1;33m)\u001b[0m\u001b[1;33m:\u001b[0m\u001b[1;33m\u001b[0m\u001b[1;33m\u001b[0m\u001b[0m\n",
      "\u001b[1;32mc:\\users\\slevadsky\\appdata\\local\\programs\\python\\python37\\lib\\site-packages\\IPython\\core\\magics\\execution.py\u001b[0m in \u001b[0;36mtimeit\u001b[1;34m(self, line, cell, local_ns)\u001b[0m\n\u001b[0;32m   1129\u001b[0m             \u001b[1;32mfor\u001b[0m \u001b[0mindex\u001b[0m \u001b[1;32min\u001b[0m \u001b[0mrange\u001b[0m\u001b[1;33m(\u001b[0m\u001b[1;36m0\u001b[0m\u001b[1;33m,\u001b[0m \u001b[1;36m10\u001b[0m\u001b[1;33m)\u001b[0m\u001b[1;33m:\u001b[0m\u001b[1;33m\u001b[0m\u001b[1;33m\u001b[0m\u001b[0m\n\u001b[0;32m   1130\u001b[0m                 \u001b[0mnumber\u001b[0m \u001b[1;33m=\u001b[0m \u001b[1;36m10\u001b[0m \u001b[1;33m**\u001b[0m \u001b[0mindex\u001b[0m\u001b[1;33m\u001b[0m\u001b[1;33m\u001b[0m\u001b[0m\n\u001b[1;32m-> 1131\u001b[1;33m                 \u001b[0mtime_number\u001b[0m \u001b[1;33m=\u001b[0m \u001b[0mtimer\u001b[0m\u001b[1;33m.\u001b[0m\u001b[0mtimeit\u001b[0m\u001b[1;33m(\u001b[0m\u001b[0mnumber\u001b[0m\u001b[1;33m)\u001b[0m\u001b[1;33m\u001b[0m\u001b[1;33m\u001b[0m\u001b[0m\n\u001b[0m\u001b[0;32m   1132\u001b[0m                 \u001b[1;32mif\u001b[0m \u001b[0mtime_number\u001b[0m \u001b[1;33m>=\u001b[0m \u001b[1;36m0.2\u001b[0m\u001b[1;33m:\u001b[0m\u001b[1;33m\u001b[0m\u001b[1;33m\u001b[0m\u001b[0m\n\u001b[0;32m   1133\u001b[0m                     \u001b[1;32mbreak\u001b[0m\u001b[1;33m\u001b[0m\u001b[1;33m\u001b[0m\u001b[0m\n",
      "\u001b[1;32mc:\\users\\slevadsky\\appdata\\local\\programs\\python\\python37\\lib\\site-packages\\IPython\\core\\magics\\execution.py\u001b[0m in \u001b[0;36mtimeit\u001b[1;34m(self, number)\u001b[0m\n\u001b[0;32m    158\u001b[0m         \u001b[0mgc\u001b[0m\u001b[1;33m.\u001b[0m\u001b[0mdisable\u001b[0m\u001b[1;33m(\u001b[0m\u001b[1;33m)\u001b[0m\u001b[1;33m\u001b[0m\u001b[1;33m\u001b[0m\u001b[0m\n\u001b[0;32m    159\u001b[0m         \u001b[1;32mtry\u001b[0m\u001b[1;33m:\u001b[0m\u001b[1;33m\u001b[0m\u001b[1;33m\u001b[0m\u001b[0m\n\u001b[1;32m--> 160\u001b[1;33m             \u001b[0mtiming\u001b[0m \u001b[1;33m=\u001b[0m \u001b[0mself\u001b[0m\u001b[1;33m.\u001b[0m\u001b[0minner\u001b[0m\u001b[1;33m(\u001b[0m\u001b[0mit\u001b[0m\u001b[1;33m,\u001b[0m \u001b[0mself\u001b[0m\u001b[1;33m.\u001b[0m\u001b[0mtimer\u001b[0m\u001b[1;33m)\u001b[0m\u001b[1;33m\u001b[0m\u001b[1;33m\u001b[0m\u001b[0m\n\u001b[0m\u001b[0;32m    161\u001b[0m         \u001b[1;32mfinally\u001b[0m\u001b[1;33m:\u001b[0m\u001b[1;33m\u001b[0m\u001b[1;33m\u001b[0m\u001b[0m\n\u001b[0;32m    162\u001b[0m             \u001b[1;32mif\u001b[0m \u001b[0mgcold\u001b[0m\u001b[1;33m:\u001b[0m\u001b[1;33m\u001b[0m\u001b[1;33m\u001b[0m\u001b[0m\n",
      "\u001b[1;32m<magic-timeit>\u001b[0m in \u001b[0;36minner\u001b[1;34m(_it, _timer)\u001b[0m\n",
      "\u001b[1;31mNameError\u001b[0m: name 'round_robin' is not defined"
     ]
    }
   ],
   "source": [
    "%timeit round_robin(cup.index.to_list(), True)"
   ]
  },
  {
   "cell_type": "code",
   "execution_count": 17,
   "metadata": {},
   "outputs": [
    {
     "data": {
      "text/html": [
       "<div>\n",
       "<style scoped>\n",
       "    .dataframe tbody tr th:only-of-type {\n",
       "        vertical-align: middle;\n",
       "    }\n",
       "\n",
       "    .dataframe tbody tr th {\n",
       "        vertical-align: top;\n",
       "    }\n",
       "\n",
       "    .dataframe thead th {\n",
       "        text-align: right;\n",
       "    }\n",
       "</style>\n",
       "<table border=\"1\" class=\"dataframe\">\n",
       "  <thead>\n",
       "    <tr style=\"text-align: right;\">\n",
       "      <th></th>\n",
       "      <th>img</th>\n",
       "      <th>title</th>\n",
       "      <th>attack</th>\n",
       "      <th>defense</th>\n",
       "    </tr>\n",
       "    <tr>\n",
       "      <th>abb</th>\n",
       "      <th></th>\n",
       "      <th></th>\n",
       "      <th></th>\n",
       "      <th></th>\n",
       "    </tr>\n",
       "  </thead>\n",
       "  <tbody>\n",
       "    <tr>\n",
       "      <th>ARG</th>\n",
       "      <td>&lt;img src=./images/Argentina.png/&gt;</td>\n",
       "      <td>Argentina</td>\n",
       "      <td>4.3</td>\n",
       "      <td>2.2</td>\n",
       "    </tr>\n",
       "    <tr>\n",
       "      <th>RUS</th>\n",
       "      <td>&lt;img src=./images/Russia.png/&gt;</td>\n",
       "      <td>Russia</td>\n",
       "      <td>4.2</td>\n",
       "      <td>2.3</td>\n",
       "    </tr>\n",
       "  </tbody>\n",
       "</table>\n",
       "</div>"
      ],
      "text/plain": [
       "                                   img      title  attack  defense\n",
       "abb                                                               \n",
       "ARG  <img src=./images/Argentina.png/>  Argentina     4.3      2.2\n",
       "RUS     <img src=./images/Russia.png/>     Russia     4.2      2.3"
      ]
     },
     "execution_count": 17,
     "metadata": {},
     "output_type": "execute_result"
    }
   ],
   "source": [
    "league_a.teams.loc[league_a.table[-2:].index.to_list()]"
   ]
  },
  {
   "cell_type": "code",
   "execution_count": null,
   "metadata": {},
   "outputs": [],
   "source": []
  }
 ],
 "metadata": {
  "kernelspec": {
   "display_name": "Python 3",
   "language": "python",
   "name": "python3"
  },
  "language_info": {
   "codemirror_mode": {
    "name": "ipython",
    "version": 3
   },
   "file_extension": ".py",
   "mimetype": "text/x-python",
   "name": "python",
   "nbconvert_exporter": "python",
   "pygments_lexer": "ipython3",
   "version": "3.7.1"
  }
 },
 "nbformat": 4,
 "nbformat_minor": 2
}
